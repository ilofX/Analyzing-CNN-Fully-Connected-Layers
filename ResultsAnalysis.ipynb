{
  "nbformat": 4,
  "nbformat_minor": 0,
  "metadata": {
    "colab": {
      "provenance": []
    },
    "kernelspec": {
      "name": "python3",
      "display_name": "Python 3"
    },
    "language_info": {
      "name": "python"
    }
  },
  "cells": [
    {
      "cell_type": "code",
      "source": [
        "!pip install -U kaleido\n",
        "import kaleido\n",
        "import os\n",
        "import numpy as np\n",
        "from tqdm import tqdm\n",
        "from prettytable import PrettyTable\n",
        "import plotly.graph_objects as go\n",
        "from scipy.interpolate import interp1d\n",
        "from collections import Counter"
      ],
      "metadata": {
        "id": "QaYFPu8jaj2K"
      },
      "execution_count": null,
      "outputs": []
    },
    {
      "cell_type": "markdown",
      "source": [
        "# Loading input data"
      ],
      "metadata": {
        "id": "IUsNkzKOdRpX"
      }
    },
    {
      "cell_type": "code",
      "source": [
        "shortest_path_distances = np.load('/content/shortest_paths_distances.npy')\n",
        "shortest_path_nodes = np.load('/content/shortest_paths_nodes.npy')\n",
        "dimensions = np.load('/content/dimensions.npy')"
      ],
      "metadata": {
        "id": "1NCElUJ6bPJG"
      },
      "execution_count": null,
      "outputs": []
    },
    {
      "cell_type": "code",
      "source": [
        "longest_path_distances = np.load('/content/longest_paths_distances.npy')\n",
        "longest_path_nodes = np.load('/content/longest_paths_nodes.npy')\n",
        "dimensions = np.load('/content/dimensions.npy')"
      ],
      "metadata": {
        "id": "fn-fN6WYbOPt"
      },
      "execution_count": null,
      "outputs": []
    },
    {
      "cell_type": "code",
      "source": [
        "betweenness_scores = np.load('/content/estimated_betweenness.npy')\n",
        "normalized_gradient = np.load('/content/normalized_gradient.npy')\n",
        "normalized_degree = np.load('/content/normalized_degree.npy')\n",
        "dimensions = np.load('/content/dimensions.npy')"
      ],
      "metadata": {
        "id": "FyF8OQhVbm0e"
      },
      "execution_count": null,
      "outputs": []
    },
    {
      "cell_type": "markdown",
      "source": [
        "# Shortest Paths Analysis"
      ],
      "metadata": {
        "id": "bchWk7YJaYc4"
      }
    },
    {
      "cell_type": "code",
      "source": [
        "shortest_nodes_score = np.zeros(dimensions[0]+dimensions[1]+dimensions[3]+dimensions[5])\n",
        "\n",
        "for path_index, path in enumerate(shortest_path_nodes):\n",
        "    # print(f\"Path {path_index}:\")\n",
        "    for node_index, node in enumerate(path):\n",
        "        shortest_nodes_score[node]+=shortest_path_distances[path_index]\n",
        "        #print(f\"  Node {node_index}: {node}\")\n",
        "\n",
        "interp_f = interp1d(list(range(len(shortest_nodes_score))), shortest_nodes_score, kind='linear')\n",
        "nodes_score_interpolation = interp_f(list(range(len(shortest_nodes_score))))\n",
        "\n",
        "bar_positions = [dimensions[0], dimensions[0]+dimensions[1], dimensions[0]+dimensions[1]+dimensions[3]]  # Adjust these values as needed\n",
        "\n",
        "print(\"\\nNodes Score\",shortest_nodes_score)\n",
        "print(\"Nodes Score Linear Interpolation\",nodes_score_interpolation)\n",
        "print(\"Separation bars for layers\",bar_positions)"
      ],
      "metadata": {
        "id": "OMCzeQrC58JP"
      },
      "execution_count": null,
      "outputs": []
    },
    {
      "cell_type": "code",
      "source": [
        "table = PrettyTable()\n",
        "headers = ['Relative Index','Neuron', 'Score']\n",
        "\n",
        "shortest_top = np.argpartition(shortest_nodes_score, -40)[-40:]\n",
        "score = []\n",
        "for index in shortest_top:\n",
        "    score.append(shortest_nodes_score[index])\n",
        "\n",
        "relative_index = []\n",
        "for index in shortest_top:\n",
        "    if index < dimensions[0]:\n",
        "        relative_index.append(\"0.\"+str(index))\n",
        "    elif index < dimensions[0]+dimensions[2]:\n",
        "        relative_index.append(\"1.\"+str(index - dimensions[0]))\n",
        "    elif index < dimensions[0]+dimensions[2]+dimensions[4]:\n",
        "        relative_index.append(\"2.\"+str(index - dimensions[0]-dimensions[2]))\n",
        "    else:\n",
        "        relative_index.append(\"3.\"+str(index - dimensions[0]-dimensions[2]-dimensions[4]))\n",
        "\n",
        "table_data = np.stack((relative_index,shortest_top, score), axis=1)\n",
        "\n",
        "table.title = \"Top 40 Neurons\"\n",
        "table.field_names = headers\n",
        "table.add_rows(table_data)\n",
        "table.sortby = \"Score\"\n",
        "table.reversesort = True\n",
        "\n",
        "if not os.path.isdir('./output/'):\n",
        "    os.makedirs('./output')\n",
        "\n",
        "with open('./output/top_shortest_neurons.txt', \"w\") as f:\n",
        "    f.write(table.get_string())\n",
        "\n",
        "print(table)"
      ],
      "metadata": {
        "id": "i0F8jQmBiJ_q"
      },
      "execution_count": null,
      "outputs": []
    },
    {
      "cell_type": "code",
      "source": [
        "# Create the histogram trace\n",
        "fig = go.Figure(data=[go.Bar(x=list(range(len(shortest_nodes_score))), y=shortest_nodes_score, width=1.5, name='Raw data')])\n",
        "\n",
        "# Add interpolation line\n",
        "fig.add_trace(go.Scatter(\n",
        "    x=list(range(len(shortest_nodes_score))),\n",
        "    y=nodes_score_interpolation,\n",
        "    mode='lines',\n",
        "    line_color='red',  # Customize line color\n",
        "    name='Interpolation'\n",
        "))\n",
        "\n",
        "# Add vertical bars to the plot\n",
        "for pos in bar_positions:\n",
        "    fig.add_shape(\n",
        "        type=\"line\",\n",
        "        x0=pos,\n",
        "        y0=0,\n",
        "        x1=pos,\n",
        "        y1=fig.data[0].y.max(),\n",
        "        line=dict(color=\"black\", width=1, dash=\"dash\"),\n",
        "        name = 'Layers'\n",
        "    )\n",
        "\n",
        "# Customize the plot (optional)\n",
        "fig.update_layout(\n",
        "    title=\"Histogram of Shortest Paths\",\n",
        "    xaxis_title=\"Neuron\",\n",
        "    yaxis_title=\"Distance sum of traversing paths\"\n",
        ")\n",
        "\n",
        "\n",
        "if not os.path.isdir('./output/'):\n",
        "    os.makedirs('./output')\n",
        "\n",
        "# Save the figure to an HTML file\n",
        "fig.write_html(\"./output/shortest_paths.html\")\n",
        "\n",
        "# Save the figure to an image file (e.g., PNG)\n",
        "fig.write_image(\"./output/shortest_paths.png\")\n",
        "\n",
        "# Show the plot\n",
        "fig.show()"
      ],
      "metadata": {
        "id": "s11tSNrD8YtW"
      },
      "execution_count": null,
      "outputs": []
    },
    {
      "cell_type": "code",
      "source": [
        "stacked_fig = go.Figure()\n",
        "stacked_fig.add_trace(go.Scatter(\n",
        "    x=list(range(len(shortest_nodes_score))),\n",
        "    y=(nodes_score_interpolation / np.linalg.norm(nodes_score_interpolation)),\n",
        "    mode='lines',\n",
        "    line_color='red',  # Customize line color\n",
        "    name='Normalized Shortest Paths',\n",
        "    opacity = 0.7\n",
        "))"
      ],
      "metadata": {
        "id": "FZPXvbOkm4oE"
      },
      "execution_count": null,
      "outputs": []
    },
    {
      "cell_type": "markdown",
      "source": [
        "# Longest Path Analysis"
      ],
      "metadata": {
        "id": "T48I4-h-aqIM"
      }
    },
    {
      "cell_type": "code",
      "source": [
        "longest_nodes_score = np.zeros(dimensions[0]+dimensions[1]+dimensions[3]+dimensions[5])\n",
        "\n",
        "for path_index, path in enumerate(longest_path_nodes):\n",
        "    # print(f\"Path {path_index}:\")\n",
        "    for node_index, node in enumerate(path):\n",
        "        longest_nodes_score[node]+=longest_path_distances[path_index]\n",
        "        #print(f\"  Node {node_index}: {node}\")\n",
        "\n",
        "interp_f = interp1d(list(range(len(longest_nodes_score))), longest_nodes_score, kind='linear')\n",
        "nodes_score_interpolation = interp_f(list(range(len(longest_nodes_score))))\n",
        "\n",
        "bar_positions = [dimensions[0], dimensions[0]+dimensions[1], dimensions[0]+dimensions[1]+dimensions[3]]  # Adjust these values as needed\n",
        "\n",
        "print(\"\\nNodes Score\",longest_nodes_score)\n",
        "print(\"Nodes Score Linear Interpolation\",nodes_score_interpolation)\n",
        "print(\"Separation bars for layers\",bar_positions)"
      ],
      "metadata": {
        "id": "8uuJDf2ya88E"
      },
      "execution_count": null,
      "outputs": []
    },
    {
      "cell_type": "code",
      "source": [
        "table = PrettyTable()\n",
        "headers = ['Relative Index','Neuron', 'Score']\n",
        "\n",
        "longest_top = np.argpartition(longest_nodes_score, -40)[-40:]\n",
        "score = []\n",
        "for index in longest_top:\n",
        "    score.append(longest_nodes_score[index])\n",
        "\n",
        "relative_index = []\n",
        "for index in longest_top:\n",
        "    if index < dimensions[0]:\n",
        "        relative_index.append(\"0.\"+str(index))\n",
        "    elif index < dimensions[0]+dimensions[2]:\n",
        "        relative_index.append(\"1.\"+str(index - dimensions[0]))\n",
        "    elif index < dimensions[0]+dimensions[2]+dimensions[4]:\n",
        "        relative_index.append(\"2.\"+str(index - dimensions[0]-dimensions[2]))\n",
        "    else:\n",
        "        relative_index.append(\"3.\"+str(index - dimensions[0]-dimensions[2]-dimensions[4]))\n",
        "\n",
        "table_data = np.stack((relative_index,longest_top, score), axis=1)\n",
        "\n",
        "table.title = \"Top 40 Neurons\"\n",
        "table.field_names = headers\n",
        "table.add_rows(table_data)\n",
        "table.sortby = \"Score\"\n",
        "table.reversesort = True\n",
        "\n",
        "if not os.path.isdir('./output/'):\n",
        "    os.makedirs('./output')\n",
        "\n",
        "with open('./output/top_longest_neurons.txt', \"w\") as f:\n",
        "    f.write(table.get_string())\n",
        "\n",
        "print(table)"
      ],
      "metadata": {
        "id": "ZnLrl6N8lySM"
      },
      "execution_count": null,
      "outputs": []
    },
    {
      "cell_type": "code",
      "source": [
        "# Create the histogram trace\n",
        "fig = go.Figure(data=[go.Bar(x=list(range(len(longest_nodes_score))), y=longest_nodes_score, width=1.5, name='Raw data')])\n",
        "\n",
        "# Add interpolation line\n",
        "fig.add_trace(go.Scatter(\n",
        "    x=list(range(len(longest_nodes_score))),\n",
        "    y=nodes_score_interpolation,\n",
        "    mode='lines',\n",
        "    line_color='blue',  # Customize line color\n",
        "    name='Interpolation'\n",
        "))\n",
        "\n",
        "# Add vertical bars to the plot\n",
        "for pos in bar_positions:\n",
        "    fig.add_shape(\n",
        "        type=\"line\",\n",
        "        x0=pos,\n",
        "        y0=0,\n",
        "        x1=pos,\n",
        "        y1=fig.data[0].y.max(),\n",
        "        line=dict(color=\"black\", width=1, dash=\"dash\"),\n",
        "        name = 'Layers'\n",
        "    )\n",
        "\n",
        "# Customize the plot (optional)\n",
        "fig.update_layout(\n",
        "    title=\"Histogram of Longest Paths\",\n",
        "    xaxis_title=\"Neuron\",\n",
        "    yaxis_title=\"Distance sum of traversing paths\"\n",
        ")\n",
        "\n",
        "if not os.path.isdir('./output/'):\n",
        "    os.makedirs('./output')\n",
        "\n",
        "# Save the figure to an HTML file\n",
        "fig.write_html(\"./output/longest_paths.html\")\n",
        "\n",
        "# Save the figure to an image file (e.g., PNG)\n",
        "fig.write_image(\"./output/longest_paths.png\")\n",
        "\n",
        "# Show the plot\n",
        "fig.show()"
      ],
      "metadata": {
        "id": "uleWKdphbIOD"
      },
      "execution_count": null,
      "outputs": []
    },
    {
      "cell_type": "code",
      "source": [
        "stacked_fig.add_trace(go.Scatter(\n",
        "    x=list(range(len(longest_nodes_score))),\n",
        "    y=(nodes_score_interpolation / np.linalg.norm(nodes_score_interpolation)),\n",
        "    mode='lines',\n",
        "    line_color='blue',  # Customize line color\n",
        "    name='Normalized Longest Paths',\n",
        "    opacity = 0.7\n",
        "))\n",
        "\n",
        "# Add vertical bars to the plot\n",
        "for pos in bar_positions:\n",
        "    stacked_fig.add_shape(\n",
        "        type=\"line\",\n",
        "        x0=pos,\n",
        "        y0=0,\n",
        "        x1=pos,\n",
        "        y1=fig.data[0].y.max(),\n",
        "        line=dict(color=\"black\", width=1, dash=\"dash\"),\n",
        "        name = 'Layers'\n",
        "    )\n",
        "\n",
        "# Update layout\n",
        "stacked_fig.update_layout(title='Overlayed Paths')\n",
        "\n",
        "if not os.path.isdir('./output/'):\n",
        "    os.makedirs('./output')\n",
        "\n",
        "# Save the figure to an HTML file\n",
        "stacked_fig.write_html(\"./output/overlay_paths.html\")\n",
        "\n",
        "# Save the figure to an image file (e.g., PNG)\n",
        "stacked_fig.write_image(\"./output/overlay_paths.png\")\n",
        "\n",
        "# Show the plot\n",
        "stacked_fig.show()"
      ],
      "metadata": {
        "id": "SfQyWOmsngui"
      },
      "execution_count": null,
      "outputs": []
    },
    {
      "cell_type": "markdown",
      "source": [
        "# Betwenness Analysis"
      ],
      "metadata": {
        "id": "VyCLoIMka8Mk"
      }
    },
    {
      "cell_type": "code",
      "source": [
        "interp_f = interp1d(list(range(len(betweenness_scores))), betweenness_scores, kind='linear')\n",
        "nodes_score_interpolation = interp_f(list(range(len(betweenness_scores))))\n",
        "\n",
        "bar_positions = [dimensions[0], dimensions[0]+dimensions[1], dimensions[0]+dimensions[1]+dimensions[3]]  # Adjust these values as needed\n",
        "\n",
        "print(\"Nodes Score\",betweenness_scores)\n",
        "print(\"Nodes Score Linear Interpolation\",nodes_score_interpolation)\n",
        "print(\"Separation bars for layers\",bar_positions)"
      ],
      "metadata": {
        "id": "et69oVmVbG1T"
      },
      "execution_count": null,
      "outputs": []
    },
    {
      "cell_type": "code",
      "source": [
        "table = PrettyTable()\n",
        "headers = ['Relative Index','Neuron', 'Betweenness']\n",
        "\n",
        "betweenness_top = np.argpartition(betweenness_scores, -40)[-40:]\n",
        "score = []\n",
        "for index in betweenness_top:\n",
        "    score.append(betweenness_scores[index])\n",
        "\n",
        "relative_index = []\n",
        "for index in betweenness_top:\n",
        "    if index < dimensions[0]:\n",
        "        relative_index.append(\"0.\"+str(index))\n",
        "    elif index < dimensions[0]+dimensions[2]:\n",
        "        relative_index.append(\"1.\"+str(index - dimensions[0]))\n",
        "    elif index < dimensions[0]+dimensions[2]+dimensions[4]:\n",
        "        relative_index.append(\"2.\"+str(index - dimensions[0]-dimensions[2]))\n",
        "    else:\n",
        "        relative_index.append(\"3.\"+str(index - dimensions[0]-dimensions[2]-dimensions[4]))\n",
        "\n",
        "table_data = np.stack((relative_index,betweenness_top, score), axis=1)\n",
        "\n",
        "table.title = \"Top 40 Neurons\"\n",
        "table.field_names = headers\n",
        "table.add_rows(table_data)\n",
        "table.sortby = \"Betweenness\"\n",
        "table.reversesort = True\n",
        "\n",
        "if not os.path.isdir('./output/'):\n",
        "    os.makedirs('./output')\n",
        "\n",
        "with open('./output/top_betweenness_neurons.txt', \"w\") as f:\n",
        "    f.write(table.get_string())\n",
        "\n",
        "print(table)"
      ],
      "metadata": {
        "id": "99T4Ju_lmCD7"
      },
      "execution_count": null,
      "outputs": []
    },
    {
      "cell_type": "code",
      "source": [
        "# Create the histogram trace\n",
        "fig = go.Figure(data=[go.Bar(x=list(range(len(betweenness_scores))), y=betweenness_scores, width=1.5, name='Raw data')])\n",
        "\n",
        "# Add interpolation line\n",
        "fig.add_trace(go.Scatter(\n",
        "    x=list(range(len(betweenness_scores))),\n",
        "    y=nodes_score_interpolation,\n",
        "    mode='lines',\n",
        "    line_color='green',  # Customize line color\n",
        "    name='Interpolation'\n",
        "))\n",
        "\n",
        "# Add vertical bars to the plot\n",
        "for pos in bar_positions:\n",
        "    fig.add_shape(\n",
        "        type=\"line\",\n",
        "        x0=pos,\n",
        "        y0=0,\n",
        "        x1=pos,\n",
        "        y1=fig.data[0].y.max(),\n",
        "        line=dict(color=\"black\", width=1, dash=\"dash\"),\n",
        "        name = 'Layers'\n",
        "    )\n",
        "\n",
        "# Customize the plot (optional)\n",
        "fig.update_layout(\n",
        "    title=\"Histogram of Betweenness Scores\",\n",
        "    xaxis_title=\"Neuron\",\n",
        "    yaxis_title=\"Betweenness Score\"\n",
        ")\n",
        "\n",
        "if not os.path.isdir('./output/'):\n",
        "    os.makedirs('./output')\n",
        "\n",
        "# Save the figure to an HTML file\n",
        "fig.write_html(\"./output/betweenness.html\")\n",
        "\n",
        "# Save the figure to an image file (e.g., PNG)\n",
        "fig.write_image(\"./output/betweenness.png\")\n",
        "\n",
        "# Show the plot\n",
        "fig.show()"
      ],
      "metadata": {
        "id": "O37LYNUjdbLQ"
      },
      "execution_count": null,
      "outputs": []
    },
    {
      "cell_type": "code",
      "source": [
        "stacked_fig = go.Figure()\n",
        "# Add interpolation line\n",
        "stacked_fig.add_trace(go.Scatter(\n",
        "    x=list(range(len(betweenness_scores))),\n",
        "    y=nodes_score_interpolation,\n",
        "    mode='lines',\n",
        "    line_color='green',  # Customize line color\n",
        "    name='Betweenness',\n",
        "    opacity = 0.6\n",
        "))"
      ],
      "metadata": {
        "id": "rPBJjpsVp1ui"
      },
      "execution_count": null,
      "outputs": []
    },
    {
      "cell_type": "markdown",
      "source": [
        "# Gradient Analysis"
      ],
      "metadata": {
        "id": "uXOGt2v9a_T7"
      }
    },
    {
      "cell_type": "code",
      "source": [
        "interp_f = interp1d(list(range(len(normalized_gradient))), normalized_gradient, kind='linear')\n",
        "nodes_score_interpolation = interp_f(list(range(len(normalized_gradient))))\n",
        "\n",
        "bar_positions = [dimensions[0], dimensions[0]+dimensions[1], dimensions[0]+dimensions[1]+dimensions[3]]  # Adjust these values as needed\n",
        "\n",
        "print(\"\\nNodes Score\",normalized_gradient)\n",
        "print(\"Nodes Score Linear Interpolation\",nodes_score_interpolation)\n",
        "print(\"Separation bars for layers\",bar_positions)"
      ],
      "metadata": {
        "id": "8UjX09WebGFX"
      },
      "execution_count": null,
      "outputs": []
    },
    {
      "cell_type": "code",
      "source": [
        "table = PrettyTable()\n",
        "headers = ['Relative Index','Neuron', 'Gradient']\n",
        "\n",
        "gradient_top = np.argpartition(normalized_gradient, -40)[-40:]\n",
        "score = []\n",
        "for index in gradient_top:\n",
        "    score.append(normalized_gradient[index])\n",
        "\n",
        "relative_index = []\n",
        "for index in longest_top:\n",
        "    if index < dimensions[0]:\n",
        "        relative_index.append(\"0.\"+str(index))\n",
        "    elif index < dimensions[0]+dimensions[2]:\n",
        "        relative_index.append(\"1.\"+str(index - dimensions[0]))\n",
        "    elif index < dimensions[0]+dimensions[2]+dimensions[4]:\n",
        "        relative_index.append(\"2.\"+str(index - dimensions[0]-dimensions[2]))\n",
        "    else:\n",
        "        relative_index.append(\"3.\"+str(index - dimensions[0]-dimensions[2]-dimensions[4]))\n",
        "\n",
        "table_data = np.stack((relative_index,gradient_top, score), axis=1)\n",
        "\n",
        "table.title = \"Top 40 Neurons\"\n",
        "table.field_names = headers\n",
        "table.add_rows(table_data)\n",
        "table.sortby = \"Gradient\"\n",
        "table.reversesort = True\n",
        "\n",
        "if not os.path.isdir('./output/'):\n",
        "    os.makedirs('./output')\n",
        "\n",
        "with open('./output/top_gradient_neurons.txt', \"w\") as f:\n",
        "    f.write(table.get_string())\n",
        "\n",
        "print(table)"
      ],
      "metadata": {
        "id": "8iaWkadVmUHx"
      },
      "execution_count": null,
      "outputs": []
    },
    {
      "cell_type": "code",
      "source": [
        "# Create the histogram trace\n",
        "fig = go.Figure(data=[go.Bar(x=list(range(len(normalized_gradient))), y=normalized_gradient, width=1.5, name='Raw data')])\n",
        "\n",
        "# Add interpolation line\n",
        "fig.add_trace(go.Scatter(\n",
        "    x=list(range(len(normalized_gradient))),\n",
        "    y=nodes_score_interpolation,\n",
        "    mode='lines',\n",
        "    line_color='orange',  # Customize line color\n",
        "    name='Interpolation'\n",
        "))\n",
        "\n",
        "# Add vertical bars to the plot\n",
        "for pos in bar_positions:\n",
        "    fig.add_shape(\n",
        "        type=\"line\",\n",
        "        x0=pos,\n",
        "        y0=0,\n",
        "        x1=pos,\n",
        "        y1=fig.data[0].y.max(),\n",
        "        line=dict(color=\"black\", width=1, dash=\"dash\"),\n",
        "        name = 'Layers'\n",
        "    )\n",
        "\n",
        "# Customize the plot (optional)\n",
        "fig.update_layout(\n",
        "    title=\"Histogram of Normalized Gradient\",\n",
        "    xaxis_title=\"Neuron\",\n",
        "    yaxis_title=\"Normalized Gradient\"\n",
        ")\n",
        "\n",
        "if not os.path.isdir('./output/'):\n",
        "    os.makedirs('./output')\n",
        "\n",
        "# Save the figure to an HTML file\n",
        "fig.write_html(\"./output/normalized_gradient.html\")\n",
        "\n",
        "# Save the figure to an image file (e.g., PNG)\n",
        "fig.write_image(\"./output/normalized_gradient.png\")\n",
        "\n",
        "# Show the plot\n",
        "fig.show()"
      ],
      "metadata": {
        "id": "Wt2ZmFJxfNjc"
      },
      "execution_count": null,
      "outputs": []
    },
    {
      "cell_type": "code",
      "source": [
        "# Add interpolation line\n",
        "stacked_fig.add_trace(go.Scatter(\n",
        "    x=list(range(len(normalized_gradient))),\n",
        "    y=nodes_score_interpolation,\n",
        "    mode='lines',\n",
        "    line_color='orange',  # Customize line color\n",
        "    name='Gradient',\n",
        "    opacity = 0.6\n",
        "))"
      ],
      "metadata": {
        "id": "8MlC_MHeqLpS"
      },
      "execution_count": null,
      "outputs": []
    },
    {
      "cell_type": "markdown",
      "source": [
        "# Degree Analysis\n"
      ],
      "metadata": {
        "id": "gsilRIOvbCJ3"
      }
    },
    {
      "cell_type": "code",
      "source": [
        "interp_f = interp1d(list(range(len(normalized_degree))), normalized_degree, kind='linear')\n",
        "nodes_score_interpolation = interp_f(list(range(len(normalized_degree))))\n",
        "\n",
        "bar_positions = [dimensions[0], dimensions[0]+dimensions[1], dimensions[0]+dimensions[1]+dimensions[3]]  # Adjust these values as needed\n",
        "\n",
        "print(\"\\nNodes Score\",normalized_degree)\n",
        "print(\"Nodes Score Linear Interpolation\",nodes_score_interpolation)\n",
        "print(\"Separation bars for layers\",bar_positions)"
      ],
      "metadata": {
        "id": "YiZXrKFtbFK1"
      },
      "execution_count": null,
      "outputs": []
    },
    {
      "cell_type": "code",
      "source": [
        "table = PrettyTable()\n",
        "headers = ['Relative Index','Neuron', 'Degree']\n",
        "\n",
        "degree_top = np.argpartition(normalized_degree, -40)[-40:]\n",
        "score = []\n",
        "for index in degree_top:\n",
        "    score.append(normalized_degree[index])\n",
        "\n",
        "relative_index = []\n",
        "for index in degree_top:\n",
        "    if index < dimensions[0]:\n",
        "        relative_index.append(\"0.\"+str(index))\n",
        "    elif index < dimensions[0]+dimensions[2]:\n",
        "        relative_index.append(\"1.\"+str(index - dimensions[0]))\n",
        "    elif index < dimensions[0]+dimensions[2]+dimensions[4]:\n",
        "        relative_index.append(\"2.\"+str(index - dimensions[0]-dimensions[2]))\n",
        "    else:\n",
        "        relative_index.append(\"3.\"+str(index - dimensions[0]-dimensions[2]-dimensions[4]))\n",
        "\n",
        "table_data = np.stack((relative_index,degree_top, score), axis=1)\n",
        "\n",
        "table.title = \"Top 40 Neurons\"\n",
        "table.field_names = headers\n",
        "table.add_rows(table_data)\n",
        "table.sortby = \"Degree\"\n",
        "table.reversesort = True\n",
        "\n",
        "if not os.path.isdir('./output/'):\n",
        "    os.makedirs('./output')\n",
        "\n",
        "with open('./output/top_degree_neurons.txt', \"w\") as f:\n",
        "    f.write(table.get_string())\n",
        "\n",
        "print(table)"
      ],
      "metadata": {
        "id": "aaJHvbEemgKC"
      },
      "execution_count": null,
      "outputs": []
    },
    {
      "cell_type": "code",
      "source": [
        "# Create the histogram trace\n",
        "fig = go.Figure(data=[go.Bar(x=list(range(len(normalized_degree))), y=normalized_degree, width=1.5, name='Raw data')])\n",
        "\n",
        "# Add interpolation line\n",
        "fig.add_trace(go.Scatter(\n",
        "    x=list(range(len(normalized_degree))),\n",
        "    y=nodes_score_interpolation,\n",
        "    mode='lines',\n",
        "    line_color='violet',  # Customize line color\n",
        "    name='Interpolation'\n",
        "))\n",
        "\n",
        "# Add vertical bars to the plot\n",
        "for pos in bar_positions:\n",
        "    fig.add_shape(\n",
        "        type=\"line\",\n",
        "        x0=pos,\n",
        "        y0=0,\n",
        "        x1=pos,\n",
        "        y1=fig.data[0].y.max(),\n",
        "        line=dict(color=\"black\", width=1, dash=\"dash\"),\n",
        "        name = 'Layers'\n",
        "    )\n",
        "\n",
        "# Customize the plot (optional)\n",
        "fig.update_layout(\n",
        "    title=\"Histogram of Normalized Degree\",\n",
        "    xaxis_title=\"Neuron\",\n",
        "    yaxis_title=\"Normalized Degree\"\n",
        ")\n",
        "\n",
        "if not os.path.isdir('./output/'):\n",
        "    os.makedirs('./output')\n",
        "\n",
        "# Save the figure to an HTML file\n",
        "fig.write_html(\"./output/normalized_degree.html\")\n",
        "\n",
        "# Save the figure to an image file (e.g., PNG)\n",
        "fig.write_image(\"./output/normalized_degree.png\")\n",
        "\n",
        "# Show the plot\n",
        "fig.show()"
      ],
      "metadata": {
        "id": "1VJYOUW5fwKn"
      },
      "execution_count": null,
      "outputs": []
    },
    {
      "cell_type": "code",
      "source": [
        "# Add interpolation line\n",
        "stacked_fig.add_trace(go.Scatter(\n",
        "    x=list(range(len(normalized_degree))),\n",
        "    y=nodes_score_interpolation,\n",
        "    mode='lines',\n",
        "    line_color='violet',  # Customize line color\n",
        "    name='Degree',\n",
        "    opacity = 0.6\n",
        "))\n",
        "\n",
        "# Add vertical bars to the plot\n",
        "for pos in bar_positions:\n",
        "    stacked_fig.add_shape(\n",
        "        type=\"line\",\n",
        "        x0=pos,\n",
        "        y0=0,\n",
        "        x1=pos,\n",
        "        y1=fig.data[0].y.max(),\n",
        "        line=dict(color=\"black\", width=1, dash=\"dash\"),\n",
        "        name = 'Layers'\n",
        "    )\n",
        "\n",
        "# Update layout\n",
        "stacked_fig.update_layout(title='Overlayed Betweenness, Gradient and Degree')\n",
        "\n",
        "if not os.path.isdir('./output/'):\n",
        "    os.makedirs('./output')\n",
        "\n",
        "# Save the figure to an HTML file\n",
        "stacked_fig.write_html(\"./output/overlay_betweenness_gradient_degree.html\")\n",
        "\n",
        "# Save the figure to an image file (e.g., PNG)\n",
        "stacked_fig.write_image(\"./output/overlay_betweenness_gradient_degree.png\")\n",
        "\n",
        "# Show the plot\n",
        "stacked_fig.show()"
      ],
      "metadata": {
        "id": "H5l_0pZOqPb2"
      },
      "execution_count": null,
      "outputs": []
    },
    {
      "cell_type": "markdown",
      "source": [
        "# Find common nodes in previous analysis"
      ],
      "metadata": {
        "id": "p7EsdeLvhPEr"
      }
    },
    {
      "cell_type": "code",
      "source": [
        "all_top = shortest_top + longest_top + betweenness_top + gradient_top + degree_top\n",
        "occurrences = Counter(all_top)\n",
        "\n",
        "table = PrettyTable()\n",
        "headers = ['Relative Index','Neuron', 'Occurrences']\n",
        "\n",
        "table.title = \"Neuron Occurrences in top 40\"\n",
        "table.field_names = headers\n",
        "\n",
        "for value, count in occurrences.items():\n",
        "   if value < dimensions[0]:\n",
        "        table.add_row([\"0.\"+str(value) ,value, count])\n",
        "   elif value < dimensions[0]+dimensions[2]:\n",
        "        table.add_row([\"1.\"+str(value - dimensions[0]), value, count])\n",
        "   elif value < dimensions[0]+dimensions[2]+dimensions[4]:\n",
        "        table.add_row([\"2.\"+str(value - dimensions[0]-dimensions[2]), value, count])\n",
        "   else:\n",
        "        table.add_row([\"3.\"+str(value - dimensions[0]-dimensions[2]-dimensions[4]), value, count])\n",
        "\n",
        "table.sortby = \"Occurrences\"\n",
        "table.reversesort = True\n",
        "\n",
        "if not os.path.isdir('./output/'):\n",
        "    os.makedirs('./output')\n",
        "\n",
        "with open('./output/neuron occurrences.txt', \"w\") as f:\n",
        "    f.write(table.get_string())\n",
        "\n",
        "print(table)"
      ],
      "metadata": {
        "id": "CAGj13nYhUBd"
      },
      "execution_count": null,
      "outputs": []
    },
    {
      "cell_type": "markdown",
      "source": [
        "# Compress Output"
      ],
      "metadata": {
        "id": "rPbsowxXg42o"
      }
    },
    {
      "cell_type": "code",
      "source": [
        "!zip -r /content/Analysis_Result.zip /content/output"
      ],
      "metadata": {
        "id": "mLiVWiDAg9DC"
      },
      "execution_count": null,
      "outputs": []
    }
  ]
}