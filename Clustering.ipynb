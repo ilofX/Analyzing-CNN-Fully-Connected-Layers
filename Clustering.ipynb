{
  "nbformat": 4,
  "nbformat_minor": 0,
  "metadata": {
    "colab": {
      "provenance": []
    },
    "kernelspec": {
      "name": "python3",
      "display_name": "Python 3"
    },
    "language_info": {
      "name": "python"
    }
  },
  "cells": [
    {
      "cell_type": "markdown",
      "source": [
        "# Clustering"
      ],
      "metadata": {
        "id": "MGFOs94iioQ9"
      }
    },
    {
      "cell_type": "code",
      "source": [
        "!pip install scikit-learn\n",
        "!pip install -U kaleido\n",
        "import kaleido\n",
        "import numpy as np\n",
        "import os\n",
        "from sklearn.cluster import Birch, OPTICS, MeanShift\n",
        "from sklearn.metrics import silhouette_score, silhouette_samples\n",
        "import plotly.graph_objects as go\n",
        "from tqdm import tqdm"
      ],
      "metadata": {
        "id": "t32zOFgoinL2"
      },
      "execution_count": null,
      "outputs": []
    },
    {
      "cell_type": "markdown",
      "source": [
        "## Load metrics and combine them\n",
        "\n",
        "\n"
      ],
      "metadata": {
        "id": "af9XR5LQhJQU"
      }
    },
    {
      "cell_type": "code",
      "source": [
        "dimensions = np.load(\"/content/dimensions.npy\")\n",
        "normalized_gradient = np.load(\"/content/normalized_gradient.npy\")\n",
        "normalized_degree = np.load(\"/content/normalized_degree.npy\")\n",
        "normalized_betweenness = np.load(\"/content/estimated_betweenness.npy\")\n",
        "\n",
        "# Assuming all three vectors have the same length\n",
        "data = np.column_stack((normalized_gradient, normalized_degree, normalized_betweenness))"
      ],
      "metadata": {
        "id": "AHOLgxx2hCt3"
      },
      "execution_count": null,
      "outputs": []
    },
    {
      "cell_type": "markdown",
      "source": [
        "## Perform Clustering"
      ],
      "metadata": {
        "id": "9HLAFjTRhODg"
      }
    },
    {
      "cell_type": "markdown",
      "source": [
        "### BIRCH"
      ],
      "metadata": {
        "id": "zG5AQNKIzmwm"
      }
    },
    {
      "cell_type": "code",
      "execution_count": null,
      "metadata": {
        "id": "aBJYX0gsgyEk"
      },
      "outputs": [],
      "source": [
        "# Create a BIRCH object with desired parameters\n",
        "brc = Birch(n_clusters=None, threshold=0.006, branching_factor=50)  # AlexNet\n",
        "# brc = Birch(n_clusters=None, threshold=0.0055, branching_factor=50) # VGG\n",
        "\n",
        "# n_clusters=None: This parameter specifies the desired number of clusters. Setting it to None means that the algorithm will try to automatically determine the optimal number of clusters based on the threshold and branching_factor parameters.\n",
        "# threshold=0.1: This parameter controls the maximum distance between two data points for them to be considered part of the same cluster during the initial clustering phase. A smaller threshold will result in more, smaller clusters.\n",
        "# branching_factor=50: This parameter determines the maximum number of data points that can be stored in each node of the clustering tree built by the algorithm. A larger branching_factor can improve performance but may also increase memory usage.\n",
        "\n",
        "# Fit the model to your data\n",
        "brc.fit(data)\n",
        "\n",
        "# Get cluster labels for each data point\n",
        "brc_labels = brc.labels_\n",
        "\n",
        "# Get the number of clusters found\n",
        "brc_n_clusters_ = len(set(brc_labels))\n",
        "\n",
        "print(f\"Number of clusters found: {brc_n_clusters_}\")\n",
        "print(\"Cluster labels:\", brc_labels)\n",
        "\n",
        "if not os.path.isdir('./output/'):\n",
        "        os.makedirs('./output')\n",
        "\n",
        "if(brc_n_clusters_ > 1):\n",
        "    brc_silhouette_score = silhouette_score(data, brc_labels)\n",
        "    print(f\"Birch Silhouette Score: {brc_silhouette_score}\")\n",
        "\n",
        "    with open(\"./output/birch_silhouette.txt\", \"w\") as f:\n",
        "        f.write(f\"Birch Silhouette Score: {brc_silhouette_score}\")\n",
        "else:\n",
        "    print(\"No clusters found.\")\n",
        "    with open(\"./output/birch_silhouette.txt\", \"w\") as f:\n",
        "        f.write(\"No clusters found.\")\n"
      ]
    },
    {
      "cell_type": "code",
      "source": [
        "# VGG\n",
        "# threshold=0.003, branching_factor=50 -> Birch Silhouette Score: 0.3829386426838363\n",
        "# threshold=0.005, branching_factor=50 -> Birch Silhouette Score: 0.441202207247106\n",
        "# threshold=0.0055, branching_factor=40 -> Birch Silhouette Score: 0.6105407601787337\n",
        "# threshold=0.0055, branching_factor=45 -> Birch Silhouette Score: 0.6105407601787337\n",
        "# threshold=0.0055, branching_factor=50 -> Birch Silhouette Score: 0.6105407601787337     !!\n",
        "# threshold=0.0055, branching_factor=55 -> Birch Silhouette Score: 0.5439725211155807\n",
        "# threshold=0.00555, branching_factor=50 -> Birch Silhouette Score: 0.5439725211155807"
      ],
      "metadata": {
        "id": "LcJfP4fuaRQY"
      },
      "execution_count": null,
      "outputs": []
    },
    {
      "cell_type": "code",
      "source": [
        "# AlexNet\n",
        "# threshold=0.0009, branching_factor=50 -> Birch Silhouette Score: 0.3145571051208082\n",
        "# threshold=0.001, branching_factor=50 -> Birch Silhouette Score: 0.33439062996942615\n",
        "# threshold=0.002, branching_factor=50 -> Birch Silhouette Score: 0.3317107114269574\n",
        "# threshold=0.003, branching_factor=50 -> Birch Silhouette Score: 0.3450148471350093\n",
        "# threshold=0.004, branching_factor=50 -> Birch Silhouette Score: 0.35959601886342196\n",
        "# threshold=0.005, branching_factor=50 -> Birch Silhouette Score: 0.4015941252813832\n",
        "# threshold=0.006, branching_factor=50 -> Birch Silhouette Score: 0.4108755805633992      !!\n",
        "# threshold=0.007, branching_factor=50 -> Birch Silhouette Score: 0.3817190935016746"
      ],
      "metadata": {
        "id": "F-wuPocByHgA"
      },
      "execution_count": null,
      "outputs": []
    },
    {
      "cell_type": "code",
      "source": [
        "brc_unique_clusters = np.unique(brc_labels)\n",
        "brc_clustered_normalized_gradient = [normalized_gradient[brc_labels == cluster] for cluster in tqdm(brc_unique_clusters)]\n",
        "brc_clustered_normalized_degree = [normalized_degree[brc_labels == cluster] for cluster in tqdm(brc_unique_clusters)]\n",
        "brc_clustered_normalized_betweenness = [normalized_betweenness[brc_labels == cluster] for cluster in tqdm(brc_unique_clusters)]"
      ],
      "metadata": {
        "id": "7c3yvIPwI66E"
      },
      "execution_count": null,
      "outputs": []
    },
    {
      "cell_type": "markdown",
      "source": [
        "### MeanShift"
      ],
      "metadata": {
        "id": "uqqeE1D9zpOb"
      }
    },
    {
      "cell_type": "code",
      "source": [
        "# Create a MeanShift object\n",
        "ms = MeanShift(bandwidth=None, bin_seeding=True)\n",
        "\n",
        "# bandwidth=None: bandwidth is a crucial parameter for MeanShift. It determines the radius around each data point that is considered when searching for density peaks. Setting it to None means that the algorithm will automatically estimate the optimal bandwidth based on the data itself.\n",
        "# bin_seeding=True: This parameter is an optimization technique. Setting it to True means that the algorithm will first discretize the data into bins before searching for density peaks. This can speed up the process, especially for large datasets.\n",
        "\n",
        "# Fit the model to your data\n",
        "ms.fit(data)\n",
        "\n",
        "# Get cluster labels for each data point\n",
        "ms_labels = ms.labels_\n",
        "\n",
        "# Get the number of clusters found\n",
        "ms_n_clusters_ = len(set(ms_labels))\n",
        "\n",
        "print(f\"MeanShift: Number of clusters found: {ms_n_clusters_}\")\n",
        "print(\"MeanShift: Cluster labels:\", ms_labels)\n",
        "\n",
        "if not os.path.isdir('./output/'):\n",
        "        os.makedirs('./output')\n",
        "\n",
        "if(ms_n_clusters_ > 1):\n",
        "    ms_silhouette_score = silhouette_score(data, ms_labels)\n",
        "    print(f\"Mean Shift Silhouette Score: {ms_silhouette_score}\")\n",
        "\n",
        "    with open(\"./output/meanshift_silhouette.txt\", \"w\") as f:\n",
        "        f.write(f\"Mean Shift Silhouette Score: {ms_silhouette_score}\")\n",
        "else:\n",
        "    print(\"No clusters found.\")\n",
        "    with open(\"./output/meanshift_silhouette.txt\", \"w\") as f:\n",
        "        f.write(\"No clusters found.\")"
      ],
      "metadata": {
        "id": "4wCNerP5eS7j"
      },
      "execution_count": null,
      "outputs": []
    },
    {
      "cell_type": "code",
      "source": [
        "ms_unique_clusters = np.unique(ms_labels)\n",
        "ms_clustered_normalized_gradient = [normalized_gradient[ms_labels == cluster] for cluster in tqdm(ms_unique_clusters)]\n",
        "ms_clustered_normalized_degree = [normalized_degree[ms_labels == cluster] for cluster in tqdm(ms_unique_clusters)]\n",
        "ms_clustered_normalized_betweenness = [normalized_betweenness[ms_labels == cluster] for cluster in tqdm(ms_unique_clusters)]"
      ],
      "metadata": {
        "id": "hVK_8Je4Fso_"
      },
      "execution_count": null,
      "outputs": []
    },
    {
      "cell_type": "markdown",
      "source": [
        "## Visualize Clusters in a 3D graph"
      ],
      "metadata": {
        "id": "CpnB3KXUhRA5"
      }
    },
    {
      "cell_type": "markdown",
      "source": [
        "### BIRCH"
      ],
      "metadata": {
        "id": "tE-Z92-6ZYo4"
      }
    },
    {
      "cell_type": "code",
      "source": [
        "# Create a 3D scatter plot with Plotly\n",
        "fig = go.Figure()\n",
        "\n",
        "for i in range(brc_n_clusters_):\n",
        "    fig.add_trace(go.Scatter3d(\n",
        "        x=brc_clustered_normalized_gradient[i],\n",
        "        y=brc_clustered_normalized_degree[i],\n",
        "        z=brc_clustered_normalized_betweenness[i],\n",
        "        mode='markers',\n",
        "        marker=dict(\n",
        "            size=2,\n",
        "            color=i,  # Color points by cluster\n",
        "            colorscale='Viridis',  # Choose a colormap\n",
        "            opacity=0.8\n",
        "        ),\n",
        "        name=\"Cluster \"+str(i+1),\n",
        "        showlegend=True\n",
        "    ))\n",
        "\n",
        "# Customize the plot\n",
        "fig.update_layout(\n",
        "    title='3D Clustering Visualization with Birch',\n",
        "    scene=dict(\n",
        "        xaxis_title='Normalized Gradient',\n",
        "        yaxis_title='Normalized Degree',\n",
        "        zaxis_title='Normalized Betweenness'\n",
        "    ),\n",
        "    legend=dict(\n",
        "        x=0,\n",
        "        y=1,\n",
        "        traceorder=\"normal\",\n",
        "        font=dict(\n",
        "            family=\"sans-serif\",\n",
        "            size=13,\n",
        "            color=\"black\"\n",
        "        )\n",
        "    )\n",
        ")\n",
        "\n",
        "if not os.path.isdir('./output/'):\n",
        "    os.makedirs('./output')\n",
        "\n",
        "# Save the figure to an HTML file\n",
        "fig.write_html(\"./output/3D_Graph_Clustering_Birch.html\")\n",
        "\n",
        "# Save the figure to an image file (e.g., PNG)\n",
        "fig.write_image(\"./output/3D_Graph_Clustering_Birch.png\")\n",
        "\n",
        "# Show the interactive plot\n",
        "fig.show()"
      ],
      "metadata": {
        "id": "j3qIb-diIIy5"
      },
      "execution_count": null,
      "outputs": []
    },
    {
      "cell_type": "markdown",
      "source": [
        "### MeanShift"
      ],
      "metadata": {
        "id": "TyMMONnmZbEd"
      }
    },
    {
      "cell_type": "code",
      "source": [
        "# Create a 3D scatter plot with Plotly\n",
        "fig = go.Figure()\n",
        "\n",
        "for i in range(ms_n_clusters_):\n",
        "    fig.add_trace(go.Scatter3d(\n",
        "        x=ms_clustered_normalized_gradient[i],\n",
        "        y=ms_clustered_normalized_degree[i],\n",
        "        z=ms_clustered_normalized_betweenness[i],\n",
        "        mode='markers',\n",
        "        marker=dict(\n",
        "            size=2,\n",
        "            color=i,  # Color points by cluster\n",
        "            colorscale='Viridis',  # Choose a colormap\n",
        "            opacity=0.8\n",
        "        ),\n",
        "        name=\"Cluster \"+str(i+1),\n",
        "        showlegend=True\n",
        "    ))\n",
        "\n",
        "# Customize the plot\n",
        "fig.update_layout(\n",
        "    title='3D Clustering Visualization with Mean Shift',\n",
        "    scene=dict(\n",
        "        xaxis_title='Normalized Gradient',\n",
        "        yaxis_title='Normalized Degree',\n",
        "        zaxis_title='Normalized Betweenness'\n",
        "    ),\n",
        "    legend=dict(\n",
        "        x=0,\n",
        "        y=1,\n",
        "        traceorder=\"normal\",\n",
        "        font=dict(\n",
        "            family=\"sans-serif\",\n",
        "            size=13,\n",
        "            color=\"black\"\n",
        "        )\n",
        "    )\n",
        ")\n",
        "\n",
        "if not os.path.isdir('./output/'):\n",
        "    os.makedirs('./output')\n",
        "\n",
        "# Save the figure to an HTML file\n",
        "fig.write_html(\"./output/3D_Graph_Clustering_MeanShift.html\")\n",
        "\n",
        "# Save the figure to an image file (e.g., PNG)\n",
        "fig.write_image(\"./output/3D_Graph_Clustering_MeanShift.png\")\n",
        "\n",
        "# Show the interactive plot\n",
        "fig.show()"
      ],
      "metadata": {
        "id": "nWp_LUQMZceu"
      },
      "execution_count": null,
      "outputs": []
    },
    {
      "cell_type": "markdown",
      "source": [
        "## Plot features dividing them by layer"
      ],
      "metadata": {
        "id": "h6l8FabJN3-D"
      }
    },
    {
      "cell_type": "code",
      "source": [
        "layer_labels = np.full(dimensions[0],0)\n",
        "layer_labels = np.concatenate((layer_labels,np.full(dimensions[2],1)))\n",
        "layer_labels = np.concatenate((layer_labels,np.full(dimensions[4],2)))\n",
        "layer_labels = np.concatenate((layer_labels,np.full(dimensions[5],3)))\n",
        "unique_layer_labels = np.unique(layer_labels)\n",
        "\n",
        "layer_normalized_gradient = [normalized_gradient[layer_labels == cluster] for cluster in tqdm(unique_layer_labels)]\n",
        "layer_normalized_degree = [normalized_degree[layer_labels == cluster] for cluster in tqdm(unique_layer_labels)]\n",
        "layer_normalized_betweenness = [normalized_betweenness[layer_labels == cluster] for cluster in tqdm(unique_layer_labels)]"
      ],
      "metadata": {
        "id": "EYV6Ik1zN8n1"
      },
      "execution_count": null,
      "outputs": []
    },
    {
      "cell_type": "code",
      "source": [
        "# Create a 3D scatter plot with Plotly\n",
        "fig = go.Figure()\n",
        "\n",
        "for i in range(len(unique_layer_labels)):\n",
        "    fig.add_trace(go.Scatter3d(\n",
        "        x=layer_normalized_gradient[i],\n",
        "        y=layer_normalized_degree[i],\n",
        "        z=layer_normalized_betweenness[i],\n",
        "        mode='markers',\n",
        "        marker=dict(\n",
        "            size=2,\n",
        "            color=i,  # Color points by cluster\n",
        "            colorscale='Viridis',  # Choose a colormap\n",
        "            opacity=0.8\n",
        "        ),\n",
        "        name=\"Layer \"+str(i),\n",
        "        showlegend=True\n",
        "    ))\n",
        "\n",
        "# Customize the plot\n",
        "fig.update_layout(\n",
        "    title='3D Visualization of features divided by layer',\n",
        "    scene=dict(\n",
        "        xaxis_title='Normalized Gradient',\n",
        "        yaxis_title='Normalized Degree',\n",
        "        zaxis_title='Normalized Betweenness'\n",
        "    ),\n",
        "    legend=dict(\n",
        "        x=0,\n",
        "        y=1,\n",
        "        traceorder=\"normal\",\n",
        "        font=dict(\n",
        "            family=\"sans-serif\",\n",
        "            size=13,\n",
        "            color=\"black\"\n",
        "        )\n",
        "    )\n",
        ")\n",
        "\n",
        "if not os.path.isdir('./output/'):\n",
        "    os.makedirs('./output')\n",
        "\n",
        "# Save the figure to an HTML file\n",
        "fig.write_html(\"./output/3D_Graph_Features_Layers.html\")\n",
        "\n",
        "# Save the figure to an image file (e.g., PNG)\n",
        "fig.write_image(\"./output/3D_Graph_Features_Layers.png\")\n",
        "\n",
        "# Show the interactive plot\n",
        "fig.show()"
      ],
      "metadata": {
        "id": "4hL-wJMXODuQ"
      },
      "execution_count": null,
      "outputs": []
    },
    {
      "cell_type": "markdown",
      "source": [
        "## Compress Output Folder"
      ],
      "metadata": {
        "id": "pcVEDUjJj7_7"
      }
    },
    {
      "cell_type": "code",
      "source": [
        "!zip -r /content/Clustering_Results.zip /content/output"
      ],
      "metadata": {
        "id": "fXf4ackuj_i_"
      },
      "execution_count": null,
      "outputs": []
    }
  ]
}